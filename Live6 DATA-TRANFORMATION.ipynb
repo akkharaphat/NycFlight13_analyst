{
 "cells":[
  {
   "cell_type":"code",
   "source":[
    "library(tidyverse)\n",
    "nyc<- read_csv(\"flights.csv\")\n",
    "airport <- read_csv(\"airport.csv\")\n",
    "airline <- read_csv(\"airline.csv\")    "
   ],
   "execution_count":1,
   "outputs":[
    {
     "name":"stderr",
     "text":[
      "Warning message in system(\"timedatectl\", intern = TRUE):\n",
      "“running command 'timedatectl' had status 141”\n",
      "Warning message:\n",
      "“Failed to locate timezone database”\n",
      "── \u001b[1mAttaching packages\u001b[22m ─────────────────────────────────────── tidyverse 1.3.1 ──\n",
      "\n",
      "\u001b[32m✔\u001b[39m \u001b[34mggplot2\u001b[39m 3.3.5     \u001b[32m✔\u001b[39m \u001b[34mpurrr  \u001b[39m 0.3.4\n",
      "\u001b[32m✔\u001b[39m \u001b[34mtibble \u001b[39m 3.1.5     \u001b[32m✔\u001b[39m \u001b[34mdplyr  \u001b[39m 1.0.7\n",
      "\u001b[32m✔\u001b[39m \u001b[34mtidyr  \u001b[39m 1.1.4     \u001b[32m✔\u001b[39m \u001b[34mstringr\u001b[39m 1.4.0\n",
      "\u001b[32m✔\u001b[39m \u001b[34mreadr  \u001b[39m 2.0.2     \u001b[32m✔\u001b[39m \u001b[34mforcats\u001b[39m 0.5.1\n",
      "\n",
      "── \u001b[1mConflicts\u001b[22m ────────────────────────────────────────── tidyverse_conflicts() ──\n",
      "\u001b[31m✖\u001b[39m \u001b[34mdplyr\u001b[39m::\u001b[32mfilter()\u001b[39m  masks \u001b[34mstats\u001b[39m::filter()\n",
      "\u001b[31m✖\u001b[39m \u001b[34mpurrr\u001b[39m::\u001b[32mflatten()\u001b[39m masks \u001b[34mjsonlite\u001b[39m::flatten()\n",
      "\u001b[31m✖\u001b[39m \u001b[34mdplyr\u001b[39m::\u001b[32mlag()\u001b[39m     masks \u001b[34mstats\u001b[39m::lag()\n",
      "\n",
      "New names:\n",
      "* `` -> ...1\n",
      "\n",
      "\u001b[1m\u001b[1mRows: \u001b[1m\u001b[22m\u001b[34m\u001b[34m336776\u001b[34m\u001b[39m \u001b[1m\u001b[1mColumns: \u001b[1m\u001b[22m\u001b[34m\u001b[34m20\u001b[34m\u001b[39m\n",
      "\n",
      "\u001b[36m──\u001b[39m \u001b[1m\u001b[1mColumn specification\u001b[1m\u001b[22m \u001b[36m────────────────────────────────────────────────────────\u001b[39m\n",
      "\u001b[1mDelimiter:\u001b[22m \",\"\n",
      "\u001b[31mchr\u001b[39m   (4): carrier, tailnum, origin, dest\n",
      "\u001b[32mdbl\u001b[39m  (15): ...1, year, month, day, dep_time, sched_dep_time, dep_delay, arr_...\n",
      "\u001b[34mdttm\u001b[39m  (1): time_hour\n",
      "\n",
      "\n",
      "\u001b[36mℹ\u001b[39m Use \u001b[30m\u001b[47m\u001b[30m\u001b[47m`spec()`\u001b[47m\u001b[30m\u001b[49m\u001b[39m to retrieve the full column specification for this data.\n",
      "\u001b[36mℹ\u001b[39m Specify the column types or set \u001b[30m\u001b[47m\u001b[30m\u001b[47m`show_col_types = FALSE`\u001b[47m\u001b[30m\u001b[49m\u001b[39m to quiet this message.\n",
      "\n",
      "New names:\n",
      "* `` -> ...1\n",
      "\n",
      "\u001b[1m\u001b[1mRows: \u001b[1m\u001b[22m\u001b[34m\u001b[34m1458\u001b[34m\u001b[39m \u001b[1m\u001b[1mColumns: \u001b[1m\u001b[22m\u001b[34m\u001b[34m9\u001b[34m\u001b[39m\n",
      "\n",
      "\u001b[36m──\u001b[39m \u001b[1m\u001b[1mColumn specification\u001b[1m\u001b[22m \u001b[36m────────────────────────────────────────────────────────\u001b[39m\n",
      "\u001b[1mDelimiter:\u001b[22m \",\"\n",
      "\u001b[31mchr\u001b[39m (4): faa, name, dst, tzone\n",
      "\u001b[32mdbl\u001b[39m (5): ...1, lat, lon, alt, tz\n",
      "\n",
      "\n",
      "\u001b[36mℹ\u001b[39m Use \u001b[30m\u001b[47m\u001b[30m\u001b[47m`spec()`\u001b[47m\u001b[30m\u001b[49m\u001b[39m to retrieve the full column specification for this data.\n",
      "\u001b[36mℹ\u001b[39m Specify the column types or set \u001b[30m\u001b[47m\u001b[30m\u001b[47m`show_col_types = FALSE`\u001b[47m\u001b[30m\u001b[49m\u001b[39m to quiet this message.\n",
      "\n",
      "\u001b[1m\u001b[1mRows: \u001b[1m\u001b[22m\u001b[34m\u001b[34m16\u001b[34m\u001b[39m \u001b[1m\u001b[1mColumns: \u001b[1m\u001b[22m\u001b[34m\u001b[34m2\u001b[34m\u001b[39m\n",
      "\n",
      "\u001b[36m──\u001b[39m \u001b[1m\u001b[1mColumn specification\u001b[1m\u001b[22m \u001b[36m────────────────────────────────────────────────────────\u001b[39m\n",
      "\u001b[1mDelimiter:\u001b[22m \",\"\n",
      "\u001b[31mchr\u001b[39m (2): carrier, name\n",
      "\n",
      "\n",
      "\u001b[36mℹ\u001b[39m Use \u001b[30m\u001b[47m\u001b[30m\u001b[47m`spec()`\u001b[47m\u001b[30m\u001b[49m\u001b[39m to retrieve the full column specification for this data.\n",
      "\u001b[36mℹ\u001b[39m Specify the column types or set \u001b[30m\u001b[47m\u001b[30m\u001b[47m`show_col_types = FALSE`\u001b[47m\u001b[30m\u001b[49m\u001b[39m to quiet this message.\n",
      "\n"
     ],
     "output_type":"stream"
    }
   ],
   "metadata":{
    "datalore":{
     "node_id":"6tKP3oNiFgCtWiwNRF8FaQ",
     "type":"CODE",
     "hide_input_from_viewers":true,
     "hide_output_from_viewers":true
    }
   }
  },
  {
   "cell_type":"code",
   "source":[
    "nyc %>% glimpse()\n",
    "glimpse(airport)\n",
    "glimpse(airline)"
   ],
   "execution_count":2,
   "outputs":[
    {
     "name":"stdout",
     "text":[
      "Rows: 336,776\n",
      "Columns: 20\n",
      "$ ...1           \u001b[3m\u001b[90m<dbl>\u001b[39m\u001b[23m 1, 2, 3, 4, 5, 6, 7, 8, 9, 10, 11, 12, 13, 14, 15, 16, …\n",
      "$ year           \u001b[3m\u001b[90m<dbl>\u001b[39m\u001b[23m 2013, 2013, 2013, 2013, 2013, 2013, 2013, 2013, 2013, 2…\n",
      "$ month          \u001b[3m\u001b[90m<dbl>\u001b[39m\u001b[23m 1, 1, 1, 1, 1, 1, 1, 1, 1, 1, 1, 1, 1, 1, 1, 1, 1, 1, 1…\n",
      "$ day            \u001b[3m\u001b[90m<dbl>\u001b[39m\u001b[23m 1, 1, 1, 1, 1, 1, 1, 1, 1, 1, 1, 1, 1, 1, 1, 1, 1, 1, 1…\n",
      "$ dep_time       \u001b[3m\u001b[90m<dbl>\u001b[39m\u001b[23m 517, 533, 542, 544, 554, 554, 555, 557, 557, 558, 558, …\n",
      "$ sched_dep_time \u001b[3m\u001b[90m<dbl>\u001b[39m\u001b[23m 515, 529, 540, 545, 600, 558, 600, 600, 600, 600, 600, …\n",
      "$ dep_delay      \u001b[3m\u001b[90m<dbl>\u001b[39m\u001b[23m 2, 4, 2, -1, -6, -4, -5, -3, -3, -2, -2, -2, -2, -2, -1…\n",
      "$ arr_time       \u001b[3m\u001b[90m<dbl>\u001b[39m\u001b[23m 830, 850, 923, 1004, 812, 740, 913, 709, 838, 753, 849,…\n",
      "$ sched_arr_time \u001b[3m\u001b[90m<dbl>\u001b[39m\u001b[23m 819, 830, 850, 1022, 837, 728, 854, 723, 846, 745, 851,…\n",
      "$ arr_delay      \u001b[3m\u001b[90m<dbl>\u001b[39m\u001b[23m 11, 20, 33, -18, -25, 12, 19, -14, -8, 8, -2, -3, 7, -1…\n",
      "$ carrier        \u001b[3m\u001b[90m<chr>\u001b[39m\u001b[23m \"UA\", \"UA\", \"AA\", \"B6\", \"DL\", \"UA\", \"B6\", \"EV\", \"B6\", \"…\n",
      "$ flight         \u001b[3m\u001b[90m<dbl>\u001b[39m\u001b[23m 1545, 1714, 1141, 725, 461, 1696, 507, 5708, 79, 301, 4…\n",
      "$ tailnum        \u001b[3m\u001b[90m<chr>\u001b[39m\u001b[23m \"N14228\", \"N24211\", \"N619AA\", \"N804JB\", \"N668DN\", \"N394…\n",
      "$ origin         \u001b[3m\u001b[90m<chr>\u001b[39m\u001b[23m \"EWR\", \"LGA\", \"JFK\", \"JFK\", \"LGA\", \"EWR\", \"EWR\", \"LGA\",…\n",
      "$ dest           \u001b[3m\u001b[90m<chr>\u001b[39m\u001b[23m \"IAH\", \"IAH\", \"MIA\", \"BQN\", \"ATL\", \"ORD\", \"FLL\", \"IAD\",…\n",
      "$ air_time       \u001b[3m\u001b[90m<dbl>\u001b[39m\u001b[23m 227, 227, 160, 183, 116, 150, 158, 53, 140, 138, 149, 1…\n",
      "$ distance       \u001b[3m\u001b[90m<dbl>\u001b[39m\u001b[23m 1400, 1416, 1089, 1576, 762, 719, 1065, 229, 944, 733, …\n",
      "$ hour           \u001b[3m\u001b[90m<dbl>\u001b[39m\u001b[23m 5, 5, 5, 5, 6, 5, 6, 6, 6, 6, 6, 6, 6, 6, 6, 5, 6, 6, 6…\n",
      "$ minute         \u001b[3m\u001b[90m<dbl>\u001b[39m\u001b[23m 15, 29, 40, 45, 0, 58, 0, 0, 0, 0, 0, 0, 0, 0, 0, 59, 0…\n",
      "$ time_hour      \u001b[3m\u001b[90m<dttm>\u001b[39m\u001b[23m 2013-01-01 05:00:00, 2013-01-01 05:00:00, 2013-01-01 0…\n",
      "Rows: 1,458\n",
      "Columns: 9\n",
      "$ ...1  \u001b[3m\u001b[90m<dbl>\u001b[39m\u001b[23m 1, 2, 3, 4, 5, 6, 7, 8, 9, 10, 11, 12, 13, 14, 15, 16, 17, 18, 1…\n",
      "$ faa   \u001b[3m\u001b[90m<chr>\u001b[39m\u001b[23m \"04G\", \"06A\", \"06C\", \"06N\", \"09J\", \"0A9\", \"0G6\", \"0G7\", \"0P2\", \"…\n",
      "$ name  \u001b[3m\u001b[90m<chr>\u001b[39m\u001b[23m \"Lansdowne Airport\", \"Moton Field Municipal Airport\", \"Schaumbur…\n",
      "$ lat   \u001b[3m\u001b[90m<dbl>\u001b[39m\u001b[23m 41.13047, 32.46057, 41.98934, 41.43191, 31.07447, 36.37122, 41.4…\n",
      "$ lon   \u001b[3m\u001b[90m<dbl>\u001b[39m\u001b[23m -80.61958, -85.68003, -88.10124, -74.39156, -81.42778, -82.17342…\n",
      "$ alt   \u001b[3m\u001b[90m<dbl>\u001b[39m\u001b[23m 1044, 264, 801, 523, 11, 1593, 730, 492, 1000, 108, 409, 875, 10…\n",
      "$ tz    \u001b[3m\u001b[90m<dbl>\u001b[39m\u001b[23m -5, -6, -6, -5, -5, -5, -5, -5, -5, -8, -5, -6, -5, -5, -5, -5, …\n",
      "$ dst   \u001b[3m\u001b[90m<chr>\u001b[39m\u001b[23m \"A\", \"A\", \"A\", \"A\", \"A\", \"A\", \"A\", \"A\", \"U\", \"A\", \"A\", \"U\", \"A\",…\n",
      "$ tzone \u001b[3m\u001b[90m<chr>\u001b[39m\u001b[23m \"America\/New_York\", \"America\/Chicago\", \"America\/Chicago\", \"Ameri…\n",
      "Rows: 16\n",
      "Columns: 2\n",
      "$ carrier \u001b[3m\u001b[90m<chr>\u001b[39m\u001b[23m \"9E\", \"AA\", \"AS\", \"B6\", \"DL\", \"EV\", \"F9\", \"FL\", \"HA\", \"MQ\", \"O…\n",
      "$ name    \u001b[3m\u001b[90m<chr>\u001b[39m\u001b[23m \"Endeavor Air Inc.\", \"American Airlines Inc.\", \"Alaska Airline…\n"
     ],
     "output_type":"stream"
    }
   ],
   "metadata":{
    "datalore":{
     "node_id":"luEy4X3lJXKzDK8lvYaogM",
     "type":"CODE",
     "hide_input_from_viewers":true,
     "hide_output_from_viewers":true
    }
   }
  },
  {
   "cell_type":"markdown",
   "source":[
    "How many distance in 2013 and which the most distance flight\n",
    "\n",
    "In **August** is most distance in 2013 **(50150427.74)**\n",
    " , **Flight 51** is Longest distance **(4983 Mile)**\n",
    " and **Flight 461** is Lowest distance **(80 mile)**"
   ],
   "attachments":{
    
   },
   "metadata":{
    "datalore":{
     "node_id":"GeU8nUc2mQGArsSN3YhWKf",
     "type":"MD",
     "hide_input_from_viewers":true,
     "hide_output_from_viewers":true
    }
   }
  },
  {
   "cell_type":"code",
   "source":[
    "nyc %>%\n",
    "  select(month,distance) %>%\n",
    "  group_by(month) %>%\n",
    "  summarise(Km. = sum(distance)*1.61)\n",
    "    "
   ],
   "execution_count":3,
   "outputs":[
    {
     "data":{
      "text\/html":[
       "<table class=\"dataframe\">\n",
       "<caption>A tibble: 12 × 2<\/caption>\n",
       "<thead>\n",
       "\t<tr><th scope=col>month<\/th><th scope=col>Km.<\/th><\/tr>\n",
       "\t<tr><th scope=col>&lt;dbl&gt;<\/th><th scope=col>&lt;dbl&gt;<\/th><\/tr>\n",
       "<\/thead>\n",
       "<tbody>\n",
       "\t<tr><td> 1<\/td><td>43773976<\/td><\/tr>\n",
       "\t<tr><td> 2<\/td><td>40210569<\/td><\/tr>\n",
       "\t<tr><td> 3<\/td><td>46979214<\/td><\/tr>\n",
       "\t<tr><td> 4<\/td><td>47377943<\/td><\/tr>\n",
       "\t<tr><td> 5<\/td><td>48258346<\/td><\/tr>\n",
       "\t<tr><td> 6<\/td><td>48068785<\/td><\/tr>\n",
       "\t<tr><td> 7<\/td><td>50150210<\/td><\/tr>\n",
       "\t<tr><td> 8<\/td><td>50150428<\/td><\/tr>\n",
       "\t<tr><td> 9<\/td><td>46225396<\/td><\/tr>\n",
       "\t<tr><td>10<\/td><td>48319458<\/td><\/tr>\n",
       "\t<tr><td>11<\/td><td>46109946<\/td><\/tr>\n",
       "\t<tr><td>12<\/td><td>48226075<\/td><\/tr>\n",
       "<\/tbody>\n",
       "<\/table>\n"
      ]
     },
     "metadata":{
      
     },
     "output_type":"display_data"
    }
   ],
   "metadata":{
    "datalore":{
     "node_id":"kyBxKfAhnTZZhwCx0M11TY",
     "type":"CODE",
     "hide_input_from_viewers":true,
     "hide_output_from_viewers":true
    }
   }
  },
  {
   "cell_type":"code",
   "source":[
    "nyc %>%\n",
    "    group_by(flight) %>%\n",
    "    summarise(distance = max(distance)) %>%\n",
    "    arrange(desc(distance)) %>%\n",
    "    head(5)\n",
    "    \n",
    "    "
   ],
   "execution_count":4,
   "outputs":[
    {
     "data":{
      "text\/html":[
       "<table class=\"dataframe\">\n",
       "<caption>A tibble: 5 × 2<\/caption>\n",
       "<thead>\n",
       "\t<tr><th scope=col>flight<\/th><th scope=col>distance<\/th><\/tr>\n",
       "\t<tr><th scope=col>&lt;dbl&gt;<\/th><th scope=col>&lt;dbl&gt;<\/th><\/tr>\n",
       "<\/thead>\n",
       "<tbody>\n",
       "\t<tr><td> 51<\/td><td>4983<\/td><\/tr>\n",
       "\t<tr><td> 15<\/td><td>4963<\/td><\/tr>\n",
       "\t<tr><td>887<\/td><td>3370<\/td><\/tr>\n",
       "\t<tr><td> 11<\/td><td>2586<\/td><\/tr>\n",
       "\t<tr><td> 23<\/td><td>2586<\/td><\/tr>\n",
       "<\/tbody>\n",
       "<\/table>\n"
      ]
     },
     "metadata":{
      
     },
     "output_type":"display_data"
    }
   ],
   "metadata":{
    "datalore":{
     "node_id":"K5q3UfvjXEMZTeDYH69O5e",
     "type":"CODE",
     "hide_input_from_viewers":true,
     "hide_output_from_viewers":true
    }
   }
  },
  {
   "cell_type":"code",
   "source":[
    "nyc %>%\n",
    "    group_by(flight) %>%\n",
    "    summarise(distance = max(distance,rm.na = T)) %>%\n",
    "    arrange(desc(distance)) %>%\n",
    "    tail(5)"
   ],
   "execution_count":5,
   "outputs":[
    {
     "data":{
      "text\/html":[
       "<table class=\"dataframe\">\n",
       "<caption>A tibble: 5 × 2<\/caption>\n",
       "<thead>\n",
       "\t<tr><th scope=col>flight<\/th><th scope=col>distance<\/th><\/tr>\n",
       "\t<tr><th scope=col>&lt;dbl&gt;<\/th><th scope=col>&lt;dbl&gt;<\/th><\/tr>\n",
       "<\/thead>\n",
       "<tbody>\n",
       "\t<tr><td>3864<\/td><td>94<\/td><\/tr>\n",
       "\t<tr><td>3884<\/td><td>94<\/td><\/tr>\n",
       "\t<tr><td>3986<\/td><td>94<\/td><\/tr>\n",
       "\t<tr><td>4013<\/td><td>94<\/td><\/tr>\n",
       "\t<tr><td>4616<\/td><td>80<\/td><\/tr>\n",
       "<\/tbody>\n",
       "<\/table>\n"
      ]
     },
     "metadata":{
      
     },
     "output_type":"display_data"
    }
   ],
   "metadata":{
    "datalore":{
     "node_id":"EToxiwNiXiaz6jNgnTMrUm",
     "type":"CODE",
     "hide_input_from_viewers":true,
     "hide_output_from_viewers":true
    }
   }
  },
  {
   "cell_type":"markdown",
   "source":[
    "# Which carrier in **May** is fly the most\n",
    "**United Air Lines Inc. 4960 **"
   ],
   "attachments":{
    
   },
   "metadata":{
    "datalore":{
     "node_id":"vjsRhuo7yIHeIvHSuycsKf",
     "type":"MD",
     "hide_input_from_viewers":true,
     "hide_output_from_viewers":true
    }
   }
  },
  {
   "cell_type":"code",
   "source":[
    "nyc %>% \n",
    "    filter(month == 5) %>%\n",
    "    count(carrier) %>%\n",
    "    arrange(desc(n)) %>%\n",
    "    left_join(airline,by =\"carrier\") %>%\n",
    "    head(5)"
   ],
   "execution_count":6,
   "outputs":[
    {
     "data":{
      "text\/html":[
       "<table class=\"dataframe\">\n",
       "<caption>A tibble: 5 × 3<\/caption>\n",
       "<thead>\n",
       "\t<tr><th scope=col>carrier<\/th><th scope=col>n<\/th><th scope=col>name<\/th><\/tr>\n",
       "\t<tr><th scope=col>&lt;chr&gt;<\/th><th scope=col>&lt;int&gt;<\/th><th scope=col>&lt;chr&gt;<\/th><\/tr>\n",
       "<\/thead>\n",
       "<tbody>\n",
       "\t<tr><td>UA<\/td><td>4960<\/td><td>United Air Lines Inc.   <\/td><\/tr>\n",
       "\t<tr><td>EV<\/td><td>4817<\/td><td>ExpressJet Airlines Inc.<\/td><\/tr>\n",
       "\t<tr><td>B6<\/td><td>4576<\/td><td>JetBlue Airways         <\/td><\/tr>\n",
       "\t<tr><td>DL<\/td><td>4082<\/td><td>Delta Air Lines Inc.    <\/td><\/tr>\n",
       "\t<tr><td>AA<\/td><td>2803<\/td><td>American Airlines Inc.  <\/td><\/tr>\n",
       "<\/tbody>\n",
       "<\/table>\n"
      ]
     },
     "metadata":{
      
     },
     "output_type":"display_data"
    }
   ],
   "metadata":{
    "datalore":{
     "node_id":"kcLyMEiZcEU4YZhYY1U9BE",
     "type":"CODE",
     "hide_input_from_viewers":true,
     "hide_output_from_viewers":true
    }
   }
  },
  {
   "cell_type":"markdown",
   "source":[
    "# where the lowest destination\n",
    "**La Guardia Airport and Blue Grass airport**"
   ],
   "attachments":{
    
   },
   "metadata":{
    "datalore":{
     "node_id":"u5r714gyGGPvhYih1kggzC",
     "type":"MD",
     "hide_input_from_viewers":true,
     "hide_output_from_viewers":true
    }
   }
  },
  {
   "cell_type":"code",
   "source":[
    "nyc %>%\n",
    "    count(dest) %>%\n",
    "    arrange(desc(n)) %>%\n",
    "    left_join(airport,by = c(\"dest\" = \"faa\")) %>%\n",
    "    tail(5)"
   ],
   "execution_count":7,
   "outputs":[
    {
     "data":{
      "text\/html":[
       "<table class=\"dataframe\">\n",
       "<caption>A tibble: 5 × 10<\/caption>\n",
       "<thead>\n",
       "\t<tr><th scope=col>dest<\/th><th scope=col>n<\/th><th scope=col>...1<\/th><th scope=col>name<\/th><th scope=col>lat<\/th><th scope=col>lon<\/th><th scope=col>alt<\/th><th scope=col>tz<\/th><th scope=col>dst<\/th><th scope=col>tzone<\/th><\/tr>\n",
       "\t<tr><th scope=col>&lt;chr&gt;<\/th><th scope=col>&lt;int&gt;<\/th><th scope=col>&lt;dbl&gt;<\/th><th scope=col>&lt;chr&gt;<\/th><th scope=col>&lt;dbl&gt;<\/th><th scope=col>&lt;dbl&gt;<\/th><th scope=col>&lt;dbl&gt;<\/th><th scope=col>&lt;dbl&gt;<\/th><th scope=col>&lt;chr&gt;<\/th><th scope=col>&lt;chr&gt;<\/th><\/tr>\n",
       "<\/thead>\n",
       "<tbody>\n",
       "\t<tr><td>MTJ<\/td><td>15<\/td><td> 928<\/td><td>Montrose Regional Airport <\/td><td>38.50979<\/td><td>-107.89424<\/td><td>5759<\/td><td>-7<\/td><td>A<\/td><td>America\/Denver   <\/td><\/tr>\n",
       "\t<tr><td>SBN<\/td><td>10<\/td><td>1193<\/td><td>South Bend Rgnl           <\/td><td>41.70866<\/td><td> -86.31725<\/td><td> 799<\/td><td>-5<\/td><td>A<\/td><td>America\/New_York <\/td><\/tr>\n",
       "\t<tr><td>ANC<\/td><td> 8<\/td><td> 129<\/td><td>Ted Stevens Anchorage Intl<\/td><td>61.17436<\/td><td>-149.99636<\/td><td> 152<\/td><td>-9<\/td><td>A<\/td><td>America\/Anchorage<\/td><\/tr>\n",
       "\t<tr><td>LEX<\/td><td> 1<\/td><td> 783<\/td><td>Blue Grass                <\/td><td>38.03650<\/td><td> -84.60589<\/td><td> 979<\/td><td>-5<\/td><td>A<\/td><td>America\/New_York <\/td><\/tr>\n",
       "\t<tr><td>LGA<\/td><td> 1<\/td><td> 787<\/td><td>La Guardia                <\/td><td>40.77725<\/td><td> -73.87261<\/td><td>  22<\/td><td>-5<\/td><td>A<\/td><td>America\/New_York <\/td><\/tr>\n",
       "<\/tbody>\n",
       "<\/table>\n"
      ]
     },
     "metadata":{
      
     },
     "output_type":"display_data"
    }
   ],
   "metadata":{
    "datalore":{
     "node_id":"xAYoxU2ubEJV315PGLR6bf",
     "type":"CODE",
     "hide_input_from_viewers":true,
     "hide_output_from_viewers":true
    }
   }
  },
  {
   "cell_type":"code",
   "source":[
    "airport <- subset(airport,select = -c(1))"
   ],
   "execution_count":8,
   "outputs":[
    
   ],
   "metadata":{
    "datalore":{
     "node_id":"un4wdLhQRwphR01NgdEVEP",
     "type":"CODE",
     "hide_input_from_viewers":true,
     "hide_output_from_viewers":false,
     "report_properties":{
      
     }
    }
   }
  },
  {
   "cell_type":"markdown",
   "source":[
    "# Which month has the most flights in Miami Intl?\n",
    "#December"
   ],
   "attachments":{
    
   },
   "metadata":{
    "datalore":{
     "node_id":"YaIZUOBP9rZAlHnTB0VdMF",
     "type":"MD",
     "hide_input_from_viewers":true,
     "hide_output_from_viewers":true
    }
   }
  },
  {
   "cell_type":"code",
   "source":[
    "nyc %>%\n",
    "    filter(dest == \"MIA\") %>%\n",
    "    group_by(month) %>%\n",
    "    count(dest) %>%\n",
    "    arrange(desc(n)) %>%\n",
    "    left_join(airport,by = c(\"dest\" = \"faa\"))\n"
   ],
   "execution_count":9,
   "outputs":[
    {
     "data":{
      "text\/html":[
       "<table class=\"dataframe\">\n",
       "<caption>A grouped_df: 12 × 10<\/caption>\n",
       "<thead>\n",
       "\t<tr><th scope=col>month<\/th><th scope=col>dest<\/th><th scope=col>n<\/th><th scope=col>name<\/th><th scope=col>lat<\/th><th scope=col>lon<\/th><th scope=col>alt<\/th><th scope=col>tz<\/th><th scope=col>dst<\/th><th scope=col>tzone<\/th><\/tr>\n",
       "\t<tr><th scope=col>&lt;dbl&gt;<\/th><th scope=col>&lt;chr&gt;<\/th><th scope=col>&lt;int&gt;<\/th><th scope=col>&lt;chr&gt;<\/th><th scope=col>&lt;dbl&gt;<\/th><th scope=col>&lt;dbl&gt;<\/th><th scope=col>&lt;dbl&gt;<\/th><th scope=col>&lt;dbl&gt;<\/th><th scope=col>&lt;chr&gt;<\/th><th scope=col>&lt;chr&gt;<\/th><\/tr>\n",
       "<\/thead>\n",
       "<tbody>\n",
       "\t<tr><td>12<\/td><td>MIA<\/td><td>1104<\/td><td>Miami Intl<\/td><td>25.79325<\/td><td>-80.29056<\/td><td>8<\/td><td>-5<\/td><td>A<\/td><td>America\/New_York<\/td><\/tr>\n",
       "\t<tr><td> 3<\/td><td>MIA<\/td><td>1017<\/td><td>Miami Intl<\/td><td>25.79325<\/td><td>-80.29056<\/td><td>8<\/td><td>-5<\/td><td>A<\/td><td>America\/New_York<\/td><\/tr>\n",
       "\t<tr><td> 5<\/td><td>MIA<\/td><td> 991<\/td><td>Miami Intl<\/td><td>25.79325<\/td><td>-80.29056<\/td><td>8<\/td><td>-5<\/td><td>A<\/td><td>America\/New_York<\/td><\/tr>\n",
       "\t<tr><td> 1<\/td><td>MIA<\/td><td> 981<\/td><td>Miami Intl<\/td><td>25.79325<\/td><td>-80.29056<\/td><td>8<\/td><td>-5<\/td><td>A<\/td><td>America\/New_York<\/td><\/tr>\n",
       "\t<tr><td> 7<\/td><td>MIA<\/td><td> 978<\/td><td>Miami Intl<\/td><td>25.79325<\/td><td>-80.29056<\/td><td>8<\/td><td>-5<\/td><td>A<\/td><td>America\/New_York<\/td><\/tr>\n",
       "\t<tr><td> 8<\/td><td>MIA<\/td><td> 975<\/td><td>Miami Intl<\/td><td>25.79325<\/td><td>-80.29056<\/td><td>8<\/td><td>-5<\/td><td>A<\/td><td>America\/New_York<\/td><\/tr>\n",
       "\t<tr><td>11<\/td><td>MIA<\/td><td> 972<\/td><td>Miami Intl<\/td><td>25.79325<\/td><td>-80.29056<\/td><td>8<\/td><td>-5<\/td><td>A<\/td><td>America\/New_York<\/td><\/tr>\n",
       "\t<tr><td> 4<\/td><td>MIA<\/td><td> 971<\/td><td>Miami Intl<\/td><td>25.79325<\/td><td>-80.29056<\/td><td>8<\/td><td>-5<\/td><td>A<\/td><td>America\/New_York<\/td><\/tr>\n",
       "\t<tr><td>10<\/td><td>MIA<\/td><td> 971<\/td><td>Miami Intl<\/td><td>25.79325<\/td><td>-80.29056<\/td><td>8<\/td><td>-5<\/td><td>A<\/td><td>America\/New_York<\/td><\/tr>\n",
       "\t<tr><td> 6<\/td><td>MIA<\/td><td> 954<\/td><td>Miami Intl<\/td><td>25.79325<\/td><td>-80.29056<\/td><td>8<\/td><td>-5<\/td><td>A<\/td><td>America\/New_York<\/td><\/tr>\n",
       "\t<tr><td> 9<\/td><td>MIA<\/td><td> 912<\/td><td>Miami Intl<\/td><td>25.79325<\/td><td>-80.29056<\/td><td>8<\/td><td>-5<\/td><td>A<\/td><td>America\/New_York<\/td><\/tr>\n",
       "\t<tr><td> 2<\/td><td>MIA<\/td><td> 902<\/td><td>Miami Intl<\/td><td>25.79325<\/td><td>-80.29056<\/td><td>8<\/td><td>-5<\/td><td>A<\/td><td>America\/New_York<\/td><\/tr>\n",
       "<\/tbody>\n",
       "<\/table>\n"
      ]
     },
     "metadata":{
      
     },
     "output_type":"display_data"
    }
   ],
   "metadata":{
    "datalore":{
     "node_id":"hNmZaYW3bPY1vLRhrguRur",
     "type":"CODE",
     "hide_input_from_viewers":true,
     "hide_output_from_viewers":true
    }
   }
  },
  {
   "cell_type":"markdown",
   "source":[
    "# JFK longest and lowest flights distance in 2013\n",
    "#Longest 4983 mile \n",
    "#Lowest   94 mile"
   ],
   "attachments":{
    
   },
   "metadata":{
    "datalore":{
     "node_id":"jhv8xxNeZ3PkJkn2KXyQII",
     "type":"MD",
     "hide_input_from_viewers":true,
     "hide_output_from_viewers":true
    }
   }
  },
  {
   "cell_type":"code",
   "source":[
    "nyc %>%\n",
    "    group_by(origin) %>%\n",
    "    filter(origin == \"JFK\") %>%\n",
    "    summarise(Longest_dist = max(distance),\n",
    "              Lowest_dist  = min(distance))"
   ],
   "execution_count":10,
   "outputs":[
    {
     "data":{
      "text\/html":[
       "<table class=\"dataframe\">\n",
       "<caption>A tibble: 1 × 3<\/caption>\n",
       "<thead>\n",
       "\t<tr><th scope=col>origin<\/th><th scope=col>Longest_dist<\/th><th scope=col>Lowest_dist<\/th><\/tr>\n",
       "\t<tr><th scope=col>&lt;chr&gt;<\/th><th scope=col>&lt;dbl&gt;<\/th><th scope=col>&lt;dbl&gt;<\/th><\/tr>\n",
       "<\/thead>\n",
       "<tbody>\n",
       "\t<tr><td>JFK<\/td><td>4983<\/td><td>94<\/td><\/tr>\n",
       "<\/tbody>\n",
       "<\/table>\n"
      ]
     },
     "metadata":{
      
     },
     "output_type":"display_data"
    }
   ],
   "metadata":{
    "datalore":{
     "node_id":"DUM1TCH77Xv2YU6PrWsouR",
     "type":"CODE",
     "hide_input_from_viewers":true,
     "hide_output_from_viewers":true
    }
   }
  },
  {
   "cell_type":"markdown",
   "source":[
    "# Which airline has the least delays in JFK\n",
    "# HA : Hawaiian Airlines Inc."
   ],
   "attachments":{
    
   },
   "metadata":{
    "datalore":{
     "node_id":"EeYlfa4IwtgettlUHBVQvV",
     "type":"MD",
     "hide_input_from_viewers":true,
     "hide_output_from_viewers":true
    }
   }
  },
  {
   "cell_type":"code",
   "source":[
    "nyc %>%\n",
    "    group_by(carrier)%>%\n",
    "    filter(origin == \"JFK\") %>%\n",
    "    summarize(avg_delay = mean(arr_delay, na.rm = T)) %>%\n",
    "            arrange(avg_delay) %>%\n",
    "            left_join(airline,by = \"carrier\")\n",
    "    "
   ],
   "execution_count":11,
   "outputs":[
    {
     "data":{
      "text\/html":[
       "<table class=\"dataframe\">\n",
       "<caption>A tibble: 10 × 3<\/caption>\n",
       "<thead>\n",
       "\t<tr><th scope=col>carrier<\/th><th scope=col>avg_delay<\/th><th scope=col>name<\/th><\/tr>\n",
       "\t<tr><th scope=col>&lt;chr&gt;<\/th><th scope=col>&lt;dbl&gt;<\/th><th scope=col>&lt;chr&gt;<\/th><\/tr>\n",
       "<\/thead>\n",
       "<tbody>\n",
       "\t<tr><td>HA<\/td><td>-6.915205<\/td><td>Hawaiian Airlines Inc.  <\/td><\/tr>\n",
       "\t<tr><td>DL<\/td><td>-2.379250<\/td><td>Delta Air Lines Inc.    <\/td><\/tr>\n",
       "\t<tr><td>AA<\/td><td> 2.081250<\/td><td>American Airlines Inc.  <\/td><\/tr>\n",
       "\t<tr><td>US<\/td><td> 2.114035<\/td><td>US Airways Inc.         <\/td><\/tr>\n",
       "\t<tr><td>UA<\/td><td> 2.510496<\/td><td>United Air Lines Inc.   <\/td><\/tr>\n",
       "\t<tr><td>VX<\/td><td> 2.827722<\/td><td>Virgin America          <\/td><\/tr>\n",
       "\t<tr><td>9E<\/td><td> 8.843327<\/td><td>Endeavor Air Inc.       <\/td><\/tr>\n",
       "\t<tr><td>B6<\/td><td> 8.893702<\/td><td>JetBlue Airways         <\/td><\/tr>\n",
       "\t<tr><td>MQ<\/td><td>12.468704<\/td><td>Envoy Air               <\/td><\/tr>\n",
       "\t<tr><td>EV<\/td><td>17.788839<\/td><td>ExpressJet Airlines Inc.<\/td><\/tr>\n",
       "<\/tbody>\n",
       "<\/table>\n"
      ]
     },
     "metadata":{
      
     },
     "output_type":"display_data"
    }
   ],
   "metadata":{
    "datalore":{
     "node_id":"CC7ygghZbmZYrWoXrrRMqP",
     "type":"CODE",
     "hide_input_from_viewers":true,
     "hide_output_from_viewers":true
    }
   }
  },
  {
   "cell_type":"code",
   "source":[
    "install.packages(\"RPostgreSQL\")\n",
    "library(RPostgreSQL)"
   ],
   "execution_count":12,
   "outputs":[
    {
     "name":"stdout",
     "text":[
      "Error in download.file(url, destfile, method, mode = \"wb\", ...) : \n",
      "  ignoring SIGPIPE signal\n"
     ],
     "output_type":"stream"
    },
    {
     "name":"stderr",
     "text":[
      "Warning message in download.packages(pkgs, destdir = tmpd, available = available, :\n",
      "“download of package ‘RPostgreSQL’ failed”\n"
     ],
     "output_type":"stream"
    },
    {
     "ename":"ERROR",
     "evalue":"ERROR: Error in library(RPostgreSQL): there is no package called ‘RPostgreSQL’\n",
     "traceback":[
      "\u001b[0;31m---------------------------------------------------------------------------",
      "Traceback (most recent call last)",
      "ERROR: Error in library(RPostgreSQL): there is no package called ‘RPostgreSQL’\n"
     ],
     "output_type":"error"
    }
   ],
   "metadata":{
    "datalore":{
     "node_id":"0dY2xQLiD5jCzUKGuQlV9u",
     "type":"CODE",
     "hide_input_from_viewers":true,
     "hide_output_from_viewers":true
    }
   }
  },
  {
   "cell_type":"code",
   "source":[
    "# connect data base\n",
    "con <- dbConnect(\n",
    "  PostgreSQL(),\n",
    "  host = \"tiny.db.elephantsql.com\",\n",
    "  dbname = \"sxkiwtvf\",\n",
    "  port = 5432,\n",
    "  user = \"sxkiwtvf\",\n",
    "  password = \"j-Hpowam7_AYVhDHDDC-BzfoknQjan4-\"\n",
    ")"
   ],
   "execution_count":null,
   "outputs":[
    
   ],
   "metadata":{
    "datalore":{
     "node_id":"IbMHs8u3p2CyOmcfBTpFih",
     "type":"CODE",
     "hide_input_from_viewers":true,
     "hide_output_from_viewers":true
    }
   }
  },
  {
   "cell_type":"code",
   "source":[
    "# create dataframe\n",
    "fav_game <- data.frame(\n",
    "    game_num = 1:5,\n",
    "    game_name = c(\"Counter-Strike: Global Offensive\", \"\tDota 2\", \"\tApex Legends\", \"Grand Theft Auto V\", \"Rust\"),\n",
    "    Dev = c(\"Valve\", \"Bizzard\", \"Respawn Entertainment\" , \"Rockstar\", \"Facepunch\")\n",
    ")\n",
    "\n",
    "# create table in database\n",
    "dbWriteTable(con, \"fav_game\", fav_game)\n"
   ],
   "execution_count":null,
   "outputs":[
    
   ],
   "metadata":{
    "datalore":{
     "node_id":"dSF9Iyg3HX6390onvTB89W",
     "type":"CODE",
     "hide_input_from_viewers":true,
     "hide_output_from_viewers":true
    }
   }
  },
  {
   "cell_type":"code",
   "source":[
    "fav_place <- data.frame(\n",
    "    id = 1:5\n",
    "    country = c(\"China\", \"Korea\", \"Laos\", \"Zombia\", \"Belgium\" ),\n",
    "    region = c(\"Asia\", \"Asia\", \"Asia\", \"Africa\", \"Europe\")\n",
    "\n",
    ") \n",
    "    \n",
    "    # create table in database\n",
    "dbWriteTable(con, \"fav_place\", fav_place)"
   ],
   "execution_count":null,
   "outputs":[
    
   ],
   "metadata":{
    "datalore":{
     "node_id":"b593aTKdBtqbihX40LlAxm",
     "type":"CODE",
     "hide_input_from_viewers":true,
     "hide_output_from_viewers":true
    }
   }
  },
  {
   "cell_type":"code",
   "source":[
    "movie_list <- data.frame(\n",
    "  id = 1:5,\n",
    "  movie_name = c(\"Lost\", \"The Midnight Guy\", \"Top Gun: Maverick\", \"Knives Out\", \"La La Land\"),\n",
    "  score = c(3, 2, 5, 3, 4)\n",
    "  year = c(\"2010\", \"2016\", \"2022\", \"2017\", \"2016\")\n",
    ")\n",
    "\n",
    "dbWriteTable(con, \"books_list\", books_list)"
   ],
   "execution_count":null,
   "outputs":[
    
   ],
   "metadata":{
    "datalore":{
     "node_id":"UaeygW9J0mx7yZSQFebqBz",
     "type":"CODE",
     "hide_input_from_viewers":true,
     "hide_output_from_viewers":true
    }
   }
  },
  {
   "cell_type":"code",
   "source":[
    "# list tables in database\n",
    "dbListTables(con)\n",
    "\n",
    "#Query\n",
    "dbGetQuery(con, \"SELECT * FROM fav_place\")"
   ],
   "execution_count":null,
   "outputs":[
    
   ],
   "metadata":{
    "datalore":{
     "node_id":"ptixV97Zs7qLccjbxK7Nut",
     "type":"CODE",
     "hide_input_from_viewers":true,
     "hide_output_from_viewers":true
    }
   }
  },
  {
   "cell_type":"code",
   "source":[
    "# disconnect database\n",
    "dbDisconnect(con)"
   ],
   "execution_count":null,
   "outputs":[
    
   ],
   "metadata":{
    "datalore":{
     "node_id":"aKorm9pMqBHrWGqWPMD9Yq",
     "type":"CODE",
     "hide_input_from_viewers":true,
     "hide_output_from_viewers":true
    }
   }
  }
 ],
 "metadata":{
  "kernelspec":{
   "display_name":"R",
   "language":"r",
   "name":"ir"
  },
  "datalore":{
   "version":1,
   "computation_mode":"REACTIVE",
   "package_manager":"conda",
   "base_environment":"minimal",
   "packages":[
    
   ]
  }
 },
 "nbformat":4,
 "nbformat_minor":4
}